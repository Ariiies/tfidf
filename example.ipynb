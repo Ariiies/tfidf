{
 "cells": [
  {
   "cell_type": "markdown",
   "metadata": {},
   "source": [
    "**Importations.**"
   ]
  },
  {
   "cell_type": "code",
   "execution_count": 5,
   "metadata": {},
   "outputs": [],
   "source": [
    "from tfidf import TF_IDF as tfidf\n",
    "from corpy import Corpy as cp\n",
    "import pandas as pd"
   ]
  },
  {
   "cell_type": "markdown",
   "metadata": {},
   "source": [
    "**The corpus and the objects**"
   ]
  },
  {
   "cell_type": "code",
   "execution_count": 2,
   "metadata": {},
   "outputs": [],
   "source": [
    "corpus = [\"gengar is my favorite pokemon\",\n",
    "          \"i like the ghost type pokemon\",\n",
    "          \"mega gengar is the best mega evolution in pokemon\"]\n",
    "\n",
    "corpy = cp(corpus)\n",
    "tf_idf = tfidf(corpy)\n"
   ]
  },
  {
   "cell_type": "markdown",
   "metadata": {},
   "source": [
    "**Show the results with pandas for a better view.**"
   ]
  },
  {
   "cell_type": "code",
   "execution_count": 3,
   "metadata": {},
   "outputs": [
    {
     "name": "stdout",
     "output_type": "stream",
     "text": [
      "--- TF ---\n",
      "       best  evolution  favorite    gengar     ghost         i        in  \\\n",
      "0  0.000000   0.000000       0.2  0.200000  0.000000  0.000000  0.000000   \n",
      "1  0.000000   0.000000       0.0  0.000000  0.166667  0.166667  0.000000   \n",
      "2  0.111111   0.111111       0.0  0.111111  0.000000  0.000000  0.111111   \n",
      "\n",
      "         is      like      mega   my   pokemon       the      type  \n",
      "0  0.200000  0.000000  0.000000  0.2  0.200000  0.000000  0.000000  \n",
      "1  0.000000  0.166667  0.000000  0.0  0.166667  0.166667  0.166667  \n",
      "2  0.111111  0.000000  0.222222  0.0  0.111111  0.111111  0.000000  \n",
      "--- IDF ---\n",
      "       best  evolution  favorite    gengar     ghost         i        in  \\\n",
      "0  0.477121   0.477121  0.477121  0.176091  0.477121  0.477121  0.477121   \n",
      "1  0.477121   0.477121  0.477121  0.176091  0.477121  0.477121  0.477121   \n",
      "2  0.477121   0.477121  0.477121  0.176091  0.477121  0.477121  0.477121   \n",
      "\n",
      "         is      like      mega        my  pokemon       the      type  \n",
      "0  0.176091  0.477121  0.477121  0.477121      0.0  0.176091  0.477121  \n",
      "1  0.176091  0.477121  0.477121  0.477121      0.0  0.176091  0.477121  \n",
      "2  0.176091  0.477121  0.477121  0.477121      0.0  0.176091  0.477121  \n",
      "--- TF-IDF ---\n",
      "       best  evolution  favorite    gengar    ghost        i        in  \\\n",
      "0  0.000000   0.000000  0.095424  0.035218  0.00000  0.00000  0.000000   \n",
      "1  0.000000   0.000000  0.000000  0.000000  0.07952  0.07952  0.000000   \n",
      "2  0.053013   0.053013  0.000000  0.019566  0.00000  0.00000  0.053013   \n",
      "\n",
      "         is     like      mega        my  pokemon       the     type  \n",
      "0  0.035218  0.00000  0.000000  0.095424      0.0  0.000000  0.00000  \n",
      "1  0.000000  0.07952  0.000000  0.000000      0.0  0.029349  0.07952  \n",
      "2  0.019566  0.00000  0.106027  0.000000      0.0  0.019566  0.00000  \n"
     ]
    }
   ],
   "source": [
    "print(\"--- TF ---\")\n",
    "df = pd.DataFrame(tf_idf.TF, columns=corpy.get_vocabulary())\n",
    "print(df)\n",
    "print(\"--- IDF ---\")\n",
    "df2 = pd.DataFrame(tf_idf.IDF, columns=corpy.get_vocabulary())\n",
    "print(df2)\n",
    "print(\"--- TF-IDF ---\")\n",
    "df3 = pd.DataFrame(tf_idf.TF_IDF, columns=corpy.get_vocabulary())\n",
    "print(df3)"
   ]
  }
 ],
 "metadata": {
  "kernelspec": {
   "display_name": "Python 3",
   "language": "python",
   "name": "python3"
  },
  "language_info": {
   "codemirror_mode": {
    "name": "ipython",
    "version": 3
   },
   "file_extension": ".py",
   "mimetype": "text/x-python",
   "name": "python",
   "nbconvert_exporter": "python",
   "pygments_lexer": "ipython3",
   "version": "3.9.2"
  }
 },
 "nbformat": 4,
 "nbformat_minor": 2
}
